{
 "cells": [
  {
   "cell_type": "code",
   "execution_count": 13,
   "metadata": {},
   "outputs": [],
   "source": [
    "import urllib3\n",
    "import xmltodict\n",
    "import pandas as pd\n",
    "\n",
    "ROOT = \"https://api.bmreports.com/BMRS\"\n",
    "\n",
    "API_KEY = \"13rphyxuucloa1t\""
   ]
  },
  {
   "cell_type": "code",
   "execution_count": 49,
   "metadata": {},
   "outputs": [],
   "source": [
    "report_name = \"DERSYSDATA\"\n",
    "settlement_date = \"2014-07-14\"\n",
    "from_settlement_date = \"2014-07-14\"\n",
    "to_settlement_date = \"2014-07-14\"\n",
    "period = \"23\""
   ]
  },
  {
   "cell_type": "code",
   "execution_count": 50,
   "metadata": {},
   "outputs": [],
   "source": [
    "url = f\"{ROOT}/{report_name}/V1?ServiceType=XML&Period={period}&APIKey={API_KEY}&SettlementDate={settlement_date}\""
   ]
  },
  {
   "cell_type": "code",
   "execution_count": 51,
   "metadata": {},
   "outputs": [],
   "source": [
    "url =f\"{ROOT}/{report_name}/V1?ServiceType=XML&Period={period}&APIKey={API_KEY}&FromSettlementDate={from_settlement_date}&ToSettlementDate={to_settlement_date}&SettlementPeriod={period}\""
   ]
  },
  {
   "cell_type": "code",
   "execution_count": 52,
   "metadata": {},
   "outputs": [
    {
     "data": {
      "text/plain": [
       "'https://api.bmreports.com/BMRS/DERSYSDATA/V1?ServiceType=XML&Period=23&APIKey=13rphyxuucloa1t&FromSettlementDate=2014-07-14&ToSettlementDate=2014-07-14&SettlementPeriod=23'"
      ]
     },
     "execution_count": 52,
     "metadata": {},
     "output_type": "execute_result"
    }
   ],
   "source": [
    "url"
   ]
  },
  {
   "cell_type": "code",
   "execution_count": 53,
   "metadata": {},
   "outputs": [],
   "source": [
    "resp = urllib3.request(\n",
    "    \"GET\",\n",
    "    url,\n",
    "    timeout=4.0\n",
    ")\n"
   ]
  },
  {
   "cell_type": "code",
   "execution_count": 55,
   "metadata": {},
   "outputs": [
    {
     "data": {
      "text/plain": [
       "b'<?xml version=\"1.0\" encoding=\"UTF-8\" standalone=\"yes\"?><response><responseMetadata><httpCode>200</httpCode><errorType>Ok</errorType><description>Success</description><cappingApplied>No</cappingApplied><cappingLimit>2000</cappingLimit><queryString>FromSettlementDate=2014-07-14,ToSettlementDate=2014-07-14,SettlementPeriod=23,Period=23</queryString></responseMetadata><responseHeader><recordType>HDR</recordType><fileType>SYSTEM BUY SELL DATA</fileType></responseHeader><responseBody><responseList><item><recordType>SSB</recordType><settlementDate>2014-07-14</settlementDate><settlementPeriod>23</settlementPeriod><systemSellPrice>29.12336</systemSellPrice><systemBuyPrice>38.92000</systemBuyPrice><bSADDefault>F</bSADDefault><priceDerivationCode >F</priceDerivationCode ><indicativeNetImbalanceVolume >-945.0000</indicativeNetImbalanceVolume ><sellPriceAdjustment >0.00</sellPriceAdjustment ><buyPriceAdjustment>6.67</buyPriceAdjustment><totalSystemAcceptedOfferVolume >34.892</totalSystemAcceptedOfferVolume ><totalSystemAcceptedBidVolume >-1280.442</totalSystemAcceptedBidVolume ><totalSystemTaggedAcceptedOfferVolume >34.892</totalSystemTaggedAcceptedOfferVolume ><totalSystemTaggedAcceptedBidVolume >-780.442</totalSystemTaggedAcceptedBidVolume ><totalSystemAdjustmentSellVolume >0.000</totalSystemAdjustmentSellVolume ><totalSystemAdjustmentBuyVolume >0.000</totalSystemAdjustmentBuyVolume ><totalSystemTaggedAdjustmentSellVolume >0.000</totalSystemTaggedAdjustmentSellVolume ><totalSystemTaggedAdjustmentBuyVolume >0.000</totalSystemTaggedAdjustmentBuyVolume ><activeFlag>Y</activeFlag></item></responseList></responseBody></response>'"
      ]
     },
     "execution_count": 55,
     "metadata": {},
     "output_type": "execute_result"
    }
   ],
   "source": [
    "resp.data"
   ]
  },
  {
   "cell_type": "code",
   "execution_count": null,
   "metadata": {},
   "outputs": [],
   "source": [
    "class PriceLoader:\n",
    "    def __init__(self) -> None:\n",
    "        \n",
    "    def load_url(self,):\n",
    "\n",
    "    def _build_settlement_periods(self):\n",
    "\n",
    "    def save(self):\n",
    "        "
   ]
  },
  {
   "cell_type": "code",
   "execution_count": 56,
   "metadata": {},
   "outputs": [
    {
     "data": {
      "text/plain": [
       "{'response': {'responseMetadata': {'httpCode': '200',\n",
       "   'errorType': 'Ok',\n",
       "   'description': 'Success',\n",
       "   'cappingApplied': 'No',\n",
       "   'cappingLimit': '2000',\n",
       "   'queryString': 'FromSettlementDate=2014-07-14,ToSettlementDate=2014-07-14,SettlementPeriod=23,Period=23'},\n",
       "  'responseHeader': {'recordType': 'HDR', 'fileType': 'SYSTEM BUY SELL DATA'},\n",
       "  'responseBody': {'responseList': {'item': {'recordType': 'SSB',\n",
       "     'settlementDate': '2014-07-14',\n",
       "     'settlementPeriod': '23',\n",
       "     'systemSellPrice': '29.12336',\n",
       "     'systemBuyPrice': '38.92000',\n",
       "     'bSADDefault': 'F',\n",
       "     'priceDerivationCode': 'F',\n",
       "     'indicativeNetImbalanceVolume': '-945.0000',\n",
       "     'sellPriceAdjustment': '0.00',\n",
       "     'buyPriceAdjustment': '6.67',\n",
       "     'totalSystemAcceptedOfferVolume': '34.892',\n",
       "     'totalSystemAcceptedBidVolume': '-1280.442',\n",
       "     'totalSystemTaggedAcceptedOfferVolume': '34.892',\n",
       "     'totalSystemTaggedAcceptedBidVolume': '-780.442',\n",
       "     'totalSystemAdjustmentSellVolume': '0.000',\n",
       "     'totalSystemAdjustmentBuyVolume': '0.000',\n",
       "     'totalSystemTaggedAdjustmentSellVolume': '0.000',\n",
       "     'totalSystemTaggedAdjustmentBuyVolume': '0.000',\n",
       "     'activeFlag': 'Y'}}}}}"
      ]
     },
     "execution_count": 56,
     "metadata": {},
     "output_type": "execute_result"
    }
   ],
   "source": [
    "xmltodict.parse(resp.data)[\"response\"]"
   ]
  },
  {
   "cell_type": "code",
   "execution_count": 61,
   "metadata": {},
   "outputs": [],
   "source": [
    "a = xmltodict.parse(resp.data)[\"response\"][\"responseBody\"][\"responseList\"][\"item\"]\n",
    "b=a "
   ]
  },
  {
   "cell_type": "code",
   "execution_count": 38,
   "metadata": {},
   "outputs": [],
   "source": []
  },
  {
   "cell_type": "code",
   "execution_count": 40,
   "metadata": {},
   "outputs": [
    {
     "data": {
      "text/plain": [
       "b'*\\n*\\n*Imbalance Prices Service For Balancing (B1770) Data\\n*\\n*DocumentID,DocumentRevNum,ActiveFlag,ProcessType,DocumentType,Resolution,CurveType,PriceCategory,ImbalancePriceAmount,SettlementPeriod,SettlementDate,ControlArea,BusinessType,TimeSeriesID,DocumentStatus\\nELX-EMFIP-IMBP-1189661,1,Y,Realised,Imbalance prices,PT30M,Sequential fixed size block,Insufficient balance,46.4524,1,2015-03-01,10YGB----------A,Balance energy deviation,ELX-EMFIP-IMBP-TS-1,Final\\nELX-EMFIP-IMBP-1189661,1,Y,Realised,Imbalance prices,PT30M,Sequential fixed size block,Excess balance,30.71,1,2015-03-01,10YGB----------A,Balance energy deviation,ELX-EMFIP-IMBP-TS-2,Final\\n<EOF>'"
      ]
     },
     "execution_count": 40,
     "metadata": {},
     "output_type": "execute_result"
    }
   ],
   "source": [
    "resp.data"
   ]
  },
  {
   "cell_type": "code",
   "execution_count": 39,
   "metadata": {},
   "outputs": [
    {
     "data": {
      "text/html": [
       "<div>\n",
       "<style scoped>\n",
       "    .dataframe tbody tr th:only-of-type {\n",
       "        vertical-align: middle;\n",
       "    }\n",
       "\n",
       "    .dataframe tbody tr th {\n",
       "        vertical-align: top;\n",
       "    }\n",
       "\n",
       "    .dataframe thead th {\n",
       "        text-align: right;\n",
       "    }\n",
       "</style>\n",
       "<table border=\"1\" class=\"dataframe\">\n",
       "  <thead>\n",
       "    <tr style=\"text-align: right;\">\n",
       "      <th></th>\n",
       "      <th>b'*\\n*\\n*Imbalance Prices Service For Balancing (B1770) Data\\n*\\n*DocumentID</th>\n",
       "      <th>DocumentRevNum</th>\n",
       "      <th>ActiveFlag</th>\n",
       "      <th>ProcessType</th>\n",
       "      <th>DocumentType</th>\n",
       "      <th>Resolution</th>\n",
       "      <th>CurveType</th>\n",
       "      <th>PriceCategory</th>\n",
       "      <th>ImbalancePriceAmount</th>\n",
       "      <th>SettlementPeriod</th>\n",
       "      <th>...</th>\n",
       "      <th>PT30M.1</th>\n",
       "      <th>Sequential fixed size block.1</th>\n",
       "      <th>Excess balance</th>\n",
       "      <th>30.71</th>\n",
       "      <th>1.3</th>\n",
       "      <th>2015-03-01.1</th>\n",
       "      <th>10YGB----------A.1</th>\n",
       "      <th>Balance energy deviation.1</th>\n",
       "      <th>ELX-EMFIP-IMBP-TS-2</th>\n",
       "      <th>Final\\n&lt;EOF&gt;'</th>\n",
       "    </tr>\n",
       "  </thead>\n",
       "  <tbody>\n",
       "  </tbody>\n",
       "</table>\n",
       "<p>0 rows × 43 columns</p>\n",
       "</div>"
      ],
      "text/plain": [
       "Empty DataFrame\n",
       "Columns: [b'*\\n*\\n*Imbalance Prices Service For Balancing (B1770) Data\\n*\\n*DocumentID, DocumentRevNum, ActiveFlag, ProcessType, DocumentType, Resolution, CurveType, PriceCategory, ImbalancePriceAmount, SettlementPeriod, SettlementDate, ControlArea, BusinessType, TimeSeriesID, DocumentStatus\\nELX-EMFIP-IMBP-1189661, 1, Y, Realised, Imbalance prices, PT30M, Sequential fixed size block, Insufficient balance, 46.4524, 1.1, 2015-03-01, 10YGB----------A, Balance energy deviation, ELX-EMFIP-IMBP-TS-1, Final\\nELX-EMFIP-IMBP-1189661, 1.2, Y.1, Realised.1, Imbalance prices.1, PT30M.1, Sequential fixed size block.1, Excess balance, 30.71, 1.3, 2015-03-01.1, 10YGB----------A.1, Balance energy deviation.1, ELX-EMFIP-IMBP-TS-2, Final\\n<EOF>']\n",
       "Index: []\n",
       "\n",
       "[0 rows x 43 columns]"
      ]
     },
     "execution_count": 39,
     "metadata": {},
     "output_type": "execute_result"
    }
   ],
   "source": [
    "pd.read_csv(io.StringIO(str(resp.data)))"
   ]
  },
  {
   "cell_type": "code",
   "execution_count": null,
   "metadata": {},
   "outputs": [],
   "source": []
  }
 ],
 "metadata": {
  "kernelspec": {
   "display_name": ".venv",
   "language": "python",
   "name": "python3"
  },
  "language_info": {
   "codemirror_mode": {
    "name": "ipython",
    "version": 3
   },
   "file_extension": ".py",
   "mimetype": "text/x-python",
   "name": "python",
   "nbconvert_exporter": "python",
   "pygments_lexer": "ipython3",
   "version": "3.11.4"
  },
  "orig_nbformat": 4
 },
 "nbformat": 4,
 "nbformat_minor": 2
}
